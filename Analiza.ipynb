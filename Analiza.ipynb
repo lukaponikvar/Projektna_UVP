{
 "cells": [
  {
   "cell_type": "markdown",
   "metadata": {},
   "source": [
    "### Dobrodošli v programu za analizo vprašanj na strani math.stackexchange.com. \n",
    "\n"
   ]
  },
  {
   "cell_type": "markdown",
   "metadata": {},
   "source": [
    "Pred vami je datoteka z analizo. Za uporabo morate le pognati vsako okence s kodo. Da vam prikrajšam čas, sem vprašanja že shranil in vam zato prvega okenca ni potrebno poganjati. V ta namen sem zakomentiral funkcijo."
   ]
  },
  {
   "cell_type": "markdown",
   "metadata": {},
   "source": [
    "Za začetek bi lahko z njihove strani shranili nekaj vprašanj v CSV datoteko. V ta namen bi pognali naslednje okence s kodo."
   ]
  },
  {
   "cell_type": "code",
   "execution_count": 1,
   "metadata": {},
   "outputs": [],
   "source": [
    "from Shranjevanje_podatkov import shrani_vprasanja_v_CSV\n",
    "\n",
    "ime_CSV_datoteke_za_analizo = \"Vprasanja.csv\"\n",
    "ime_mape_za_analizo = \"Analiza\"\n",
    "število_strani_za_analizo = \"\"\n",
    "filter_za_analizo = \"Votes\"\n",
    "\n",
    "# shrani_vprasanja_v_CSV(ime_CSV_datoteke_za_analizo, ime_mape_za_analizo, število_strani_za_analizo, filter_za_analizo)"
   ]
  },
  {
   "cell_type": "markdown",
   "metadata": {},
   "source": [
    "Pojaviti bi se morala mapa z želenim imenom, v njej pa nas bi morali pričakati CSV datoteki z vprašanji in oznakami. "
   ]
  },
  {
   "cell_type": "markdown",
   "metadata": {},
   "source": [
    "Za ogrevanje si najprej oglejmo, koliko vprašanj je na celotnem forumu."
   ]
  },
  {
   "cell_type": "code",
   "execution_count": 2,
   "metadata": {},
   "outputs": [
    {
     "data": {
      "text/plain": [
       "'1,598,392'"
      ]
     },
     "execution_count": 2,
     "metadata": {},
     "output_type": "execute_result"
    }
   ],
   "source": [
    "from Izluscevanje_podatkov import izlusci_stevilo_vseh_vprasanj_in_vseh_strani\n",
    "izlusci_stevilo_vseh_vprasanj_in_vseh_strani()[0]"
   ]
  },
  {
   "cell_type": "markdown",
   "metadata": {},
   "source": [
    "Začnimo z analizo shranjenih podatkov. V prvem korako bomo s pomočjo knjižnice Pandas ustvarili razpredelnico(DataFrame). Ker nas bodo v bodoče zanimale tudi oznake, shranimo v razpredelnico tudi te."
   ]
  },
  {
   "cell_type": "code",
   "execution_count": 3,
   "metadata": {},
   "outputs": [
    {
     "data": {
      "text/html": [
       "<div>\n",
       "<style scoped>\n",
       "    .dataframe tbody tr th:only-of-type {\n",
       "        vertical-align: middle;\n",
       "    }\n",
       "\n",
       "    .dataframe tbody tr th {\n",
       "        vertical-align: top;\n",
       "    }\n",
       "\n",
       "    .dataframe thead th {\n",
       "        text-align: right;\n",
       "    }\n",
       "</style>\n",
       "<table border=\"1\" class=\"dataframe\">\n",
       "  <thead>\n",
       "    <tr style=\"text-align: right;\">\n",
       "      <th></th>\n",
       "      <th>Ime</th>\n",
       "      <th>Opomba</th>\n",
       "      <th>Glasovi</th>\n",
       "      <th>Odgovori</th>\n",
       "      <th>Sprejet odgovor</th>\n",
       "      <th>Ogledi</th>\n",
       "      <th>Datum in ura</th>\n",
       "    </tr>\n",
       "    <tr>\n",
       "      <th>Id</th>\n",
       "      <th></th>\n",
       "      <th></th>\n",
       "      <th></th>\n",
       "      <th></th>\n",
       "      <th></th>\n",
       "      <th></th>\n",
       "      <th></th>\n",
       "    </tr>\n",
       "  </thead>\n",
       "  <tbody>\n",
       "    <tr>\n",
       "      <th>733754</th>\n",
       "      <td>Visually stunning math concepts which are easy...</td>\n",
       "      <td>Odprt</td>\n",
       "      <td>1595</td>\n",
       "      <td>87</td>\n",
       "      <td>Ne</td>\n",
       "      <td>593763</td>\n",
       "      <td>NaT</td>\n",
       "    </tr>\n",
       "    <tr>\n",
       "      <th>21199</th>\n",
       "      <td>Is $\\frac{\\textrm{d}y}{\\textrm{d}x}$ not a ratio?</td>\n",
       "      <td>Odprt</td>\n",
       "      <td>1270</td>\n",
       "      <td>26</td>\n",
       "      <td>Da</td>\n",
       "      <td>136634</td>\n",
       "      <td>2011-02-09 16:23:43</td>\n",
       "    </tr>\n",
       "    <tr>\n",
       "      <th>379927</th>\n",
       "      <td>How long will it take Marie to saw another boa...</td>\n",
       "      <td>Odprt</td>\n",
       "      <td>1086</td>\n",
       "      <td>32</td>\n",
       "      <td>Da</td>\n",
       "      <td>152137</td>\n",
       "      <td>2013-05-03 03:31:47</td>\n",
       "    </tr>\n",
       "    <tr>\n",
       "      <th>71874</th>\n",
       "      <td>Can I use my powers for good?</td>\n",
       "      <td>Zaprt</td>\n",
       "      <td>920</td>\n",
       "      <td>29</td>\n",
       "      <td>Ne</td>\n",
       "      <td>97541</td>\n",
       "      <td>NaT</td>\n",
       "    </tr>\n",
       "    <tr>\n",
       "      <th>12906</th>\n",
       "      <td>The staircase paradox, or why $\\pi\\ne4$</td>\n",
       "      <td>Odprt</td>\n",
       "      <td>878</td>\n",
       "      <td>22</td>\n",
       "      <td>Da</td>\n",
       "      <td>110782</td>\n",
       "      <td>2010-12-03 13:44:56</td>\n",
       "    </tr>\n",
       "    <tr>\n",
       "      <th>...</th>\n",
       "      <td>...</td>\n",
       "      <td>...</td>\n",
       "      <td>...</td>\n",
       "      <td>...</td>\n",
       "      <td>...</td>\n",
       "      <td>...</td>\n",
       "      <td>...</td>\n",
       "    </tr>\n",
       "    <tr>\n",
       "      <th>4753733</th>\n",
       "      <td>Given three intersecting planes, find the line...</td>\n",
       "      <td>Odprt</td>\n",
       "      <td>0</td>\n",
       "      <td>1</td>\n",
       "      <td>Da</td>\n",
       "      <td>44</td>\n",
       "      <td>2023-08-16 07:16:17</td>\n",
       "    </tr>\n",
       "    <tr>\n",
       "      <th>4753732</th>\n",
       "      <td>What permits us to compare the terms here?</td>\n",
       "      <td>Duplikat</td>\n",
       "      <td>0</td>\n",
       "      <td>1</td>\n",
       "      <td>Ne</td>\n",
       "      <td>30</td>\n",
       "      <td>2023-08-16 07:14:07</td>\n",
       "    </tr>\n",
       "    <tr>\n",
       "      <th>4753730</th>\n",
       "      <td>Asymptotics of $\\displaystyle{\\sum_{i=0}^n\\sqr...</td>\n",
       "      <td>Odprt</td>\n",
       "      <td>2</td>\n",
       "      <td>0</td>\n",
       "      <td>Ne</td>\n",
       "      <td>52</td>\n",
       "      <td>2023-08-16 07:04:20</td>\n",
       "    </tr>\n",
       "    <tr>\n",
       "      <th>4753729</th>\n",
       "      <td>How many functions f : A →B exist?</td>\n",
       "      <td>Odprt</td>\n",
       "      <td>-4</td>\n",
       "      <td>0</td>\n",
       "      <td>Ne</td>\n",
       "      <td>20</td>\n",
       "      <td>2023-08-16 07:03:02</td>\n",
       "    </tr>\n",
       "    <tr>\n",
       "      <th>4753728</th>\n",
       "      <td>Multiple dependent binomial random variables i...</td>\n",
       "      <td>Odprt</td>\n",
       "      <td>0</td>\n",
       "      <td>0</td>\n",
       "      <td>Ne</td>\n",
       "      <td>11</td>\n",
       "      <td>2023-08-16 07:02:32</td>\n",
       "    </tr>\n",
       "  </tbody>\n",
       "</table>\n",
       "<p>496900 rows × 7 columns</p>\n",
       "</div>"
      ],
      "text/plain": [
       "                                                       Ime    Opomba  Glasovi   \n",
       "Id                                                                              \n",
       "733754   Visually stunning math concepts which are easy...     Odprt     1595  \\\n",
       "21199    Is $\\frac{\\textrm{d}y}{\\textrm{d}x}$ not a ratio?     Odprt     1270   \n",
       "379927   How long will it take Marie to saw another boa...     Odprt     1086   \n",
       "71874                        Can I use my powers for good?     Zaprt      920   \n",
       "12906              The staircase paradox, or why $\\pi\\ne4$     Odprt      878   \n",
       "...                                                    ...       ...      ...   \n",
       "4753733  Given three intersecting planes, find the line...     Odprt        0   \n",
       "4753732         What permits us to compare the terms here?  Duplikat        0   \n",
       "4753730  Asymptotics of $\\displaystyle{\\sum_{i=0}^n\\sqr...     Odprt        2   \n",
       "4753729                 How many functions f : A →B exist?     Odprt       -4   \n",
       "4753728  Multiple dependent binomial random variables i...     Odprt        0   \n",
       "\n",
       "         Odgovori Sprejet odgovor  Ogledi        Datum in ura  \n",
       "Id                                                             \n",
       "733754         87              Ne  593763                 NaT  \n",
       "21199          26              Da  136634 2011-02-09 16:23:43  \n",
       "379927         32              Da  152137 2013-05-03 03:31:47  \n",
       "71874          29              Ne   97541                 NaT  \n",
       "12906          22              Da  110782 2010-12-03 13:44:56  \n",
       "...           ...             ...     ...                 ...  \n",
       "4753733         1              Da      44 2023-08-16 07:16:17  \n",
       "4753732         1              Ne      30 2023-08-16 07:14:07  \n",
       "4753730         0              Ne      52 2023-08-16 07:04:20  \n",
       "4753729         0              Ne      20 2023-08-16 07:03:02  \n",
       "4753728         0              Ne      11 2023-08-16 07:02:32  \n",
       "\n",
       "[496900 rows x 7 columns]"
      ]
     },
     "execution_count": 3,
     "metadata": {},
     "output_type": "execute_result"
    }
   ],
   "source": [
    "import pandas as pd\n",
    "import os\n",
    "\n",
    "\n",
    "VPRASANJA = pd.read_csv(os.path.join(ime_mape_za_analizo,ime_CSV_datoteke_za_analizo), index_col=\"Id\", parse_dates=[\"Datum in ura\"])\n",
    "OZNAKE = pd.read_csv(os.path.join(ime_mape_za_analizo,ime_CSV_datoteke_za_analizo[:-4] + \"_oznake.csv\"))\n",
    "VPRASANJA\n"
   ]
  },
  {
   "cell_type": "markdown",
   "metadata": {},
   "source": [
    "Če želimo preveriti koliko vprašanj smo shranili:"
   ]
  },
  {
   "cell_type": "code",
   "execution_count": 4,
   "metadata": {},
   "outputs": [
    {
     "data": {
      "text/plain": [
       "496900"
      ]
     },
     "execution_count": 4,
     "metadata": {},
     "output_type": "execute_result"
    }
   ],
   "source": [
    "VPRASANJA.shape[0]"
   ]
  },
  {
   "cell_type": "markdown",
   "metadata": {},
   "source": [
    "Shranjena vprašanja lahko sedaj razvrstimo po številu glasov, da vidimo, katero je najbolj priljubljeno."
   ]
  },
  {
   "cell_type": "code",
   "execution_count": 5,
   "metadata": {},
   "outputs": [
    {
     "data": {
      "text/html": [
       "<div>\n",
       "<style scoped>\n",
       "    .dataframe tbody tr th:only-of-type {\n",
       "        vertical-align: middle;\n",
       "    }\n",
       "\n",
       "    .dataframe tbody tr th {\n",
       "        vertical-align: top;\n",
       "    }\n",
       "\n",
       "    .dataframe thead th {\n",
       "        text-align: right;\n",
       "    }\n",
       "</style>\n",
       "<table border=\"1\" class=\"dataframe\">\n",
       "  <thead>\n",
       "    <tr style=\"text-align: right;\">\n",
       "      <th></th>\n",
       "      <th>Ime</th>\n",
       "      <th>Opomba</th>\n",
       "      <th>Glasovi</th>\n",
       "      <th>Odgovori</th>\n",
       "      <th>Sprejet odgovor</th>\n",
       "      <th>Ogledi</th>\n",
       "      <th>Datum in ura</th>\n",
       "    </tr>\n",
       "    <tr>\n",
       "      <th>Id</th>\n",
       "      <th></th>\n",
       "      <th></th>\n",
       "      <th></th>\n",
       "      <th></th>\n",
       "      <th></th>\n",
       "      <th></th>\n",
       "      <th></th>\n",
       "    </tr>\n",
       "  </thead>\n",
       "  <tbody>\n",
       "    <tr>\n",
       "      <th>733754</th>\n",
       "      <td>Visually stunning math concepts which are easy...</td>\n",
       "      <td>Odprt</td>\n",
       "      <td>1595</td>\n",
       "      <td>87</td>\n",
       "      <td>Ne</td>\n",
       "      <td>593763</td>\n",
       "      <td>NaT</td>\n",
       "    </tr>\n",
       "    <tr>\n",
       "      <th>21199</th>\n",
       "      <td>Is $\\frac{\\textrm{d}y}{\\textrm{d}x}$ not a ratio?</td>\n",
       "      <td>Odprt</td>\n",
       "      <td>1270</td>\n",
       "      <td>26</td>\n",
       "      <td>Da</td>\n",
       "      <td>136634</td>\n",
       "      <td>2011-02-09 16:23:43</td>\n",
       "    </tr>\n",
       "    <tr>\n",
       "      <th>379927</th>\n",
       "      <td>How long will it take Marie to saw another boa...</td>\n",
       "      <td>Odprt</td>\n",
       "      <td>1086</td>\n",
       "      <td>32</td>\n",
       "      <td>Da</td>\n",
       "      <td>152137</td>\n",
       "      <td>2013-05-03 03:31:47</td>\n",
       "    </tr>\n",
       "    <tr>\n",
       "      <th>71874</th>\n",
       "      <td>Can I use my powers for good?</td>\n",
       "      <td>Zaprt</td>\n",
       "      <td>920</td>\n",
       "      <td>29</td>\n",
       "      <td>Ne</td>\n",
       "      <td>97541</td>\n",
       "      <td>NaT</td>\n",
       "    </tr>\n",
       "    <tr>\n",
       "      <th>12906</th>\n",
       "      <td>The staircase paradox, or why $\\pi\\ne4$</td>\n",
       "      <td>Odprt</td>\n",
       "      <td>878</td>\n",
       "      <td>22</td>\n",
       "      <td>Da</td>\n",
       "      <td>110782</td>\n",
       "      <td>2010-12-03 13:44:56</td>\n",
       "    </tr>\n",
       "    <tr>\n",
       "      <th>...</th>\n",
       "      <td>...</td>\n",
       "      <td>...</td>\n",
       "      <td>...</td>\n",
       "      <td>...</td>\n",
       "      <td>...</td>\n",
       "      <td>...</td>\n",
       "      <td>...</td>\n",
       "    </tr>\n",
       "    <tr>\n",
       "      <th>4753794</th>\n",
       "      <td>show that: $cd - c - d = (c - 1)(d - 1) - 1$</td>\n",
       "      <td>Odprt</td>\n",
       "      <td>-2</td>\n",
       "      <td>1</td>\n",
       "      <td>Da</td>\n",
       "      <td>45</td>\n",
       "      <td>2023-08-16 09:55:25</td>\n",
       "    </tr>\n",
       "    <tr>\n",
       "      <th>4753777</th>\n",
       "      <td>Liouville&amp;#39;s equation: a Cauchy problem.</td>\n",
       "      <td>Odprt</td>\n",
       "      <td>-3</td>\n",
       "      <td>0</td>\n",
       "      <td>Ne</td>\n",
       "      <td>20</td>\n",
       "      <td>2023-08-16 09:30:32</td>\n",
       "    </tr>\n",
       "    <tr>\n",
       "      <th>4753729</th>\n",
       "      <td>How many functions f : A →B exist?</td>\n",
       "      <td>Odprt</td>\n",
       "      <td>-4</td>\n",
       "      <td>0</td>\n",
       "      <td>Ne</td>\n",
       "      <td>20</td>\n",
       "      <td>2023-08-16 07:03:02</td>\n",
       "    </tr>\n",
       "    <tr>\n",
       "      <th>4753890</th>\n",
       "      <td>Why don&amp;#39;t we assume the value of $\\pi$ to ...</td>\n",
       "      <td>Odprt</td>\n",
       "      <td>-5</td>\n",
       "      <td>0</td>\n",
       "      <td>Ne</td>\n",
       "      <td>29</td>\n",
       "      <td>2023-08-16 13:30:56</td>\n",
       "    </tr>\n",
       "    <tr>\n",
       "      <th>4753768</th>\n",
       "      <td>What is n’s value</td>\n",
       "      <td>Zaprt</td>\n",
       "      <td>-5</td>\n",
       "      <td>0</td>\n",
       "      <td>Ne</td>\n",
       "      <td>37</td>\n",
       "      <td>2023-08-16 09:07:21</td>\n",
       "    </tr>\n",
       "  </tbody>\n",
       "</table>\n",
       "<p>496900 rows × 7 columns</p>\n",
       "</div>"
      ],
      "text/plain": [
       "                                                       Ime Opomba  Glasovi   \n",
       "Id                                                                           \n",
       "733754   Visually stunning math concepts which are easy...  Odprt     1595  \\\n",
       "21199    Is $\\frac{\\textrm{d}y}{\\textrm{d}x}$ not a ratio?  Odprt     1270   \n",
       "379927   How long will it take Marie to saw another boa...  Odprt     1086   \n",
       "71874                        Can I use my powers for good?  Zaprt      920   \n",
       "12906              The staircase paradox, or why $\\pi\\ne4$  Odprt      878   \n",
       "...                                                    ...    ...      ...   \n",
       "4753794       show that: $cd - c - d = (c - 1)(d - 1) - 1$  Odprt       -2   \n",
       "4753777        Liouville&#39;s equation: a Cauchy problem.  Odprt       -3   \n",
       "4753729                 How many functions f : A →B exist?  Odprt       -4   \n",
       "4753890  Why don&#39;t we assume the value of $\\pi$ to ...  Odprt       -5   \n",
       "4753768                                  What is n’s value  Zaprt       -5   \n",
       "\n",
       "         Odgovori Sprejet odgovor  Ogledi        Datum in ura  \n",
       "Id                                                             \n",
       "733754         87              Ne  593763                 NaT  \n",
       "21199          26              Da  136634 2011-02-09 16:23:43  \n",
       "379927         32              Da  152137 2013-05-03 03:31:47  \n",
       "71874          29              Ne   97541                 NaT  \n",
       "12906          22              Da  110782 2010-12-03 13:44:56  \n",
       "...           ...             ...     ...                 ...  \n",
       "4753794         1              Da      45 2023-08-16 09:55:25  \n",
       "4753777         0              Ne      20 2023-08-16 09:30:32  \n",
       "4753729         0              Ne      20 2023-08-16 07:03:02  \n",
       "4753890         0              Ne      29 2023-08-16 13:30:56  \n",
       "4753768         0              Ne      37 2023-08-16 09:07:21  \n",
       "\n",
       "[496900 rows x 7 columns]"
      ]
     },
     "execution_count": 5,
     "metadata": {},
     "output_type": "execute_result"
    }
   ],
   "source": [
    "VPRASANJA.sort_values(by=[\"Glasovi\"], ascending=False)"
   ]
  },
  {
   "cell_type": "markdown",
   "metadata": {},
   "source": [
    "Opazimo, da ne vidimo celotnega vprašanja, zato si ga oglejmo pobliže."
   ]
  },
  {
   "cell_type": "code",
   "execution_count": 6,
   "metadata": {},
   "outputs": [
    {
     "data": {
      "text/plain": [
       "'Visually stunning math concepts which are easy to explain'"
      ]
     },
     "execution_count": 6,
     "metadata": {},
     "output_type": "execute_result"
    }
   ],
   "source": [
    "VPRASANJA.loc[733754, \"Ime\"]"
   ]
  },
  {
   "cell_type": "markdown",
   "metadata": {},
   "source": [
    "Oglejmo si, kakšne ozanke je avtor podelil temu vprašanju."
   ]
  },
  {
   "cell_type": "code",
   "execution_count": 7,
   "metadata": {},
   "outputs": [
    {
     "data": {
      "text/html": [
       "<div>\n",
       "<style scoped>\n",
       "    .dataframe tbody tr th:only-of-type {\n",
       "        vertical-align: middle;\n",
       "    }\n",
       "\n",
       "    .dataframe tbody tr th {\n",
       "        vertical-align: top;\n",
       "    }\n",
       "\n",
       "    .dataframe thead th {\n",
       "        text-align: right;\n",
       "    }\n",
       "</style>\n",
       "<table border=\"1\" class=\"dataframe\">\n",
       "  <thead>\n",
       "    <tr style=\"text-align: right;\">\n",
       "      <th></th>\n",
       "      <th>Id</th>\n",
       "      <th>Oznaka</th>\n",
       "    </tr>\n",
       "  </thead>\n",
       "  <tbody>\n",
       "    <tr>\n",
       "      <th>0</th>\n",
       "      <td>733754</td>\n",
       "      <td>soft-question</td>\n",
       "    </tr>\n",
       "    <tr>\n",
       "      <th>1</th>\n",
       "      <td>733754</td>\n",
       "      <td>recreational-mathematics</td>\n",
       "    </tr>\n",
       "    <tr>\n",
       "      <th>2</th>\n",
       "      <td>733754</td>\n",
       "      <td>education</td>\n",
       "    </tr>\n",
       "    <tr>\n",
       "      <th>3</th>\n",
       "      <td>733754</td>\n",
       "      <td>big-list</td>\n",
       "    </tr>\n",
       "    <tr>\n",
       "      <th>4</th>\n",
       "      <td>733754</td>\n",
       "      <td>visualization</td>\n",
       "    </tr>\n",
       "  </tbody>\n",
       "</table>\n",
       "</div>"
      ],
      "text/plain": [
       "       Id                    Oznaka\n",
       "0  733754             soft-question\n",
       "1  733754  recreational-mathematics\n",
       "2  733754                 education\n",
       "3  733754                  big-list\n",
       "4  733754             visualization"
      ]
     },
     "execution_count": 7,
     "metadata": {},
     "output_type": "execute_result"
    }
   ],
   "source": [
    "OZNAKE[OZNAKE[\"Id\"] == 733754]"
   ]
  },
  {
   "cell_type": "markdown",
   "metadata": {},
   "source": [
    "Poglejmo, katere izmed oznak se pojavljajo največkrat."
   ]
  },
  {
   "cell_type": "code",
   "execution_count": 8,
   "metadata": {},
   "outputs": [
    {
     "data": {
      "text/plain": [
       "Oznaka\n",
       "real-analysis     47064\n",
       "calculus          42206\n",
       "linear-algebra    33915\n",
       "Name: Oznaka, dtype: int64"
      ]
     },
     "execution_count": 8,
     "metadata": {},
     "output_type": "execute_result"
    }
   ],
   "source": [
    "po_oznakah = OZNAKE.groupby(by = [\"Oznaka\"])[\"Oznaka\"].size()\n",
    "po_oznakah.sort_values(ascending=False, inplace=True)\n",
    "po_oznakah.head(3)"
   ]
  },
  {
   "cell_type": "markdown",
   "metadata": {},
   "source": [
    "Oglejmo si graf, ki nam bo pokazal povezavo med stevilom odgovorov in stevilom vprasanj:\n"
   ]
  },
  {
   "cell_type": "code",
   "execution_count": 9,
   "metadata": {},
   "outputs": [
    {
     "data": {
      "text/plain": [
       "<Axes: xlabel='Odgovori', ylabel='količina vprašanj'>"
      ]
     },
     "execution_count": 9,
     "metadata": {},
     "output_type": "execute_result"
    },
    {
     "data": {
      "image/png": "[encoded data removed]",
      "text/plain": [
       "<Figure size 640x480 with 1 Axes>"
      ]
     },
     "metadata": {},
     "output_type": "display_data"
    }
   ],
   "source": [
    "po_odgovorih = VPRASANJA.groupby(by = \"Odgovori\").size()\n",
    "po_odgovorih.plot.bar(ylabel = \"količina vprašanj\")"
   ]
  },
  {
   "cell_type": "markdown",
   "metadata": {},
   "source": [
    "Da bomo lahko dejansko kaj prebrali, uporabimo na y osi logaritemsko skalo."
   ]
  },
  {
   "cell_type": "code",
   "execution_count": 10,
   "metadata": {},
   "outputs": [
    {
     "data": {
      "text/plain": [
       "<Axes: xlabel='Odgovori', ylabel='količina vprašanj'>"
      ]
     },
     "execution_count": 10,
     "metadata": {},
     "output_type": "execute_result"
    },
    {
     "data": {
      "image/png": "[encoded data removed]",
      "text/plain": [
       "<Figure size 640x480 with 1 Axes>"
      ]
     },
     "metadata": {},
     "output_type": "display_data"
    }
   ],
   "source": [
    "po_odgovorih.plot.bar(ylabel = \"količina vprašanj\", logy = True)"
   ]
  },
  {
   "cell_type": "markdown",
   "metadata": {},
   "source": [
    "Oglejmo si, če obstaja kakšna povezava med številom odgovorov in glasov."
   ]
  },
  {
   "cell_type": "code",
   "execution_count": 11,
   "metadata": {},
   "outputs": [
    {
     "data": {
      "text/plain": [
       "<Axes: xlabel='Glasovi', ylabel='Odgovori'>"
      ]
     },
     "execution_count": 11,
     "metadata": {},
     "output_type": "execute_result"
    },
    {
     "data": {
      "image/png": "[encoded data removed]",
      "text/plain": [
       "<Figure size 640x480 with 1 Axes>"
      ]
     },
     "metadata": {},
     "output_type": "display_data"
    }
   ],
   "source": [
    "VPRASANJA.plot.scatter('Glasovi','Odgovori')"
   ]
  },
  {
   "cell_type": "markdown",
   "metadata": {},
   "source": [
    "Mogoče nas zanima na kateri dan v tednu je bilo objavljeno kakšno vprašanje. "
   ]
  },
  {
   "cell_type": "code",
   "execution_count": 12,
   "metadata": {},
   "outputs": [
    {
     "data": {
      "text/html": [
       "<div>\n",
       "<style scoped>\n",
       "    .dataframe tbody tr th:only-of-type {\n",
       "        vertical-align: middle;\n",
       "    }\n",
       "\n",
       "    .dataframe tbody tr th {\n",
       "        vertical-align: top;\n",
       "    }\n",
       "\n",
       "    .dataframe thead th {\n",
       "        text-align: right;\n",
       "    }\n",
       "</style>\n",
       "<table border=\"1\" class=\"dataframe\">\n",
       "  <thead>\n",
       "    <tr style=\"text-align: right;\">\n",
       "      <th></th>\n",
       "      <th>Ime</th>\n",
       "      <th>Opomba</th>\n",
       "      <th>Glasovi</th>\n",
       "      <th>Odgovori</th>\n",
       "      <th>Sprejet odgovor</th>\n",
       "      <th>Ogledi</th>\n",
       "      <th>Datum in ura</th>\n",
       "      <th>Dan v Tednu</th>\n",
       "    </tr>\n",
       "    <tr>\n",
       "      <th>Id</th>\n",
       "      <th></th>\n",
       "      <th></th>\n",
       "      <th></th>\n",
       "      <th></th>\n",
       "      <th></th>\n",
       "      <th></th>\n",
       "      <th></th>\n",
       "      <th></th>\n",
       "    </tr>\n",
       "  </thead>\n",
       "  <tbody>\n",
       "    <tr>\n",
       "      <th>733754</th>\n",
       "      <td>Visually stunning math concepts which are easy...</td>\n",
       "      <td>Odprt</td>\n",
       "      <td>1595</td>\n",
       "      <td>87</td>\n",
       "      <td>Ne</td>\n",
       "      <td>593763</td>\n",
       "      <td>NaT</td>\n",
       "      <td>None</td>\n",
       "    </tr>\n",
       "    <tr>\n",
       "      <th>21199</th>\n",
       "      <td>Is $\\frac{\\textrm{d}y}{\\textrm{d}x}$ not a ratio?</td>\n",
       "      <td>Odprt</td>\n",
       "      <td>1270</td>\n",
       "      <td>26</td>\n",
       "      <td>Da</td>\n",
       "      <td>136634</td>\n",
       "      <td>2011-02-09 16:23:43</td>\n",
       "      <td>Sreda</td>\n",
       "    </tr>\n",
       "    <tr>\n",
       "      <th>379927</th>\n",
       "      <td>How long will it take Marie to saw another boa...</td>\n",
       "      <td>Odprt</td>\n",
       "      <td>1086</td>\n",
       "      <td>32</td>\n",
       "      <td>Da</td>\n",
       "      <td>152137</td>\n",
       "      <td>2013-05-03 03:31:47</td>\n",
       "      <td>Petek</td>\n",
       "    </tr>\n",
       "    <tr>\n",
       "      <th>71874</th>\n",
       "      <td>Can I use my powers for good?</td>\n",
       "      <td>Zaprt</td>\n",
       "      <td>920</td>\n",
       "      <td>29</td>\n",
       "      <td>Ne</td>\n",
       "      <td>97541</td>\n",
       "      <td>NaT</td>\n",
       "      <td>None</td>\n",
       "    </tr>\n",
       "    <tr>\n",
       "      <th>12906</th>\n",
       "      <td>The staircase paradox, or why $\\pi\\ne4$</td>\n",
       "      <td>Odprt</td>\n",
       "      <td>878</td>\n",
       "      <td>22</td>\n",
       "      <td>Da</td>\n",
       "      <td>110782</td>\n",
       "      <td>2010-12-03 13:44:56</td>\n",
       "      <td>Petek</td>\n",
       "    </tr>\n",
       "    <tr>\n",
       "      <th>...</th>\n",
       "      <td>...</td>\n",
       "      <td>...</td>\n",
       "      <td>...</td>\n",
       "      <td>...</td>\n",
       "      <td>...</td>\n",
       "      <td>...</td>\n",
       "      <td>...</td>\n",
       "      <td>...</td>\n",
       "    </tr>\n",
       "    <tr>\n",
       "      <th>4753733</th>\n",
       "      <td>Given three intersecting planes, find the line...</td>\n",
       "      <td>Odprt</td>\n",
       "      <td>0</td>\n",
       "      <td>1</td>\n",
       "      <td>Da</td>\n",
       "      <td>44</td>\n",
       "      <td>2023-08-16 07:16:17</td>\n",
       "      <td>Sreda</td>\n",
       "    </tr>\n",
       "    <tr>\n",
       "      <th>4753732</th>\n",
       "      <td>What permits us to compare the terms here?</td>\n",
       "      <td>Duplikat</td>\n",
       "      <td>0</td>\n",
       "      <td>1</td>\n",
       "      <td>Ne</td>\n",
       "      <td>30</td>\n",
       "      <td>2023-08-16 07:14:07</td>\n",
       "      <td>Sreda</td>\n",
       "    </tr>\n",
       "    <tr>\n",
       "      <th>4753730</th>\n",
       "      <td>Asymptotics of $\\displaystyle{\\sum_{i=0}^n\\sqr...</td>\n",
       "      <td>Odprt</td>\n",
       "      <td>2</td>\n",
       "      <td>0</td>\n",
       "      <td>Ne</td>\n",
       "      <td>52</td>\n",
       "      <td>2023-08-16 07:04:20</td>\n",
       "      <td>Sreda</td>\n",
       "    </tr>\n",
       "    <tr>\n",
       "      <th>4753729</th>\n",
       "      <td>How many functions f : A →B exist?</td>\n",
       "      <td>Odprt</td>\n",
       "      <td>-4</td>\n",
       "      <td>0</td>\n",
       "      <td>Ne</td>\n",
       "      <td>20</td>\n",
       "      <td>2023-08-16 07:03:02</td>\n",
       "      <td>Sreda</td>\n",
       "    </tr>\n",
       "    <tr>\n",
       "      <th>4753728</th>\n",
       "      <td>Multiple dependent binomial random variables i...</td>\n",
       "      <td>Odprt</td>\n",
       "      <td>0</td>\n",
       "      <td>0</td>\n",
       "      <td>Ne</td>\n",
       "      <td>11</td>\n",
       "      <td>2023-08-16 07:02:32</td>\n",
       "      <td>Sreda</td>\n",
       "    </tr>\n",
       "  </tbody>\n",
       "</table>\n",
       "<p>496900 rows × 8 columns</p>\n",
       "</div>"
      ],
      "text/plain": [
       "                                                       Ime    Opomba  Glasovi   \n",
       "Id                                                                              \n",
       "733754   Visually stunning math concepts which are easy...     Odprt     1595  \\\n",
       "21199    Is $\\frac{\\textrm{d}y}{\\textrm{d}x}$ not a ratio?     Odprt     1270   \n",
       "379927   How long will it take Marie to saw another boa...     Odprt     1086   \n",
       "71874                        Can I use my powers for good?     Zaprt      920   \n",
       "12906              The staircase paradox, or why $\\pi\\ne4$     Odprt      878   \n",
       "...                                                    ...       ...      ...   \n",
       "4753733  Given three intersecting planes, find the line...     Odprt        0   \n",
       "4753732         What permits us to compare the terms here?  Duplikat        0   \n",
       "4753730  Asymptotics of $\\displaystyle{\\sum_{i=0}^n\\sqr...     Odprt        2   \n",
       "4753729                 How many functions f : A →B exist?     Odprt       -4   \n",
       "4753728  Multiple dependent binomial random variables i...     Odprt        0   \n",
       "\n",
       "         Odgovori Sprejet odgovor  Ogledi        Datum in ura Dan v Tednu  \n",
       "Id                                                                         \n",
       "733754         87              Ne  593763                 NaT        None  \n",
       "21199          26              Da  136634 2011-02-09 16:23:43       Sreda  \n",
       "379927         32              Da  152137 2013-05-03 03:31:47       Petek  \n",
       "71874          29              Ne   97541                 NaT        None  \n",
       "12906          22              Da  110782 2010-12-03 13:44:56       Petek  \n",
       "...           ...             ...     ...                 ...         ...  \n",
       "4753733         1              Da      44 2023-08-16 07:16:17       Sreda  \n",
       "4753732         1              Ne      30 2023-08-16 07:14:07       Sreda  \n",
       "4753730         0              Ne      52 2023-08-16 07:04:20       Sreda  \n",
       "4753729         0              Ne      20 2023-08-16 07:03:02       Sreda  \n",
       "4753728         0              Ne      11 2023-08-16 07:02:32       Sreda  \n",
       "\n",
       "[496900 rows x 8 columns]"
      ]
     },
     "execution_count": 12,
     "metadata": {},
     "output_type": "execute_result"
    }
   ],
   "source": [
    "from Pomozne_funkcije import prevedi\n",
    "\n",
    "\n",
    "VPRASANJA[\"Dan v Tednu\"] = VPRASANJA[\"Datum in ura\"].dt.day_name()\n",
    "VPRASANJA[\"Dan v Tednu\"] = VPRASANJA[\"Dan v Tednu\"].map(prevedi)\n",
    "VPRASANJA"
   ]
  },
  {
   "cell_type": "markdown",
   "metadata": {},
   "source": [
    "Ali je mad dnevi v tednu in vprašanji kakšna korelacija?"
   ]
  },
  {
   "cell_type": "code",
   "execution_count": 13,
   "metadata": {},
   "outputs": [
    {
     "data": {
      "text/plain": [
       "<Axes: >"
      ]
     },
     "execution_count": 13,
     "metadata": {},
     "output_type": "execute_result"
    },
    {
     "data": {
      "image/png": "[encoded data removed]",
      "text/plain": [
       "<Figure size 640x480 with 1 Axes>"
      ]
     },
     "metadata": {},
     "output_type": "display_data"
    }
   ],
   "source": [
    "dnevi = VPRASANJA[\"Dan v Tednu\"].apply(lambda x: len(str(x)) >4)\n",
    "VPRASANJA[dnevi].groupby(\"Dan v Tednu\").size().plot.pie()"
   ]
  },
  {
   "cell_type": "markdown",
   "metadata": {},
   "source": [
    "Za koliko vprašanj pa nam ni uspelo izluščiti datuma?\n"
   ]
  },
  {
   "cell_type": "code",
   "execution_count": 14,
   "metadata": {},
   "outputs": [
    {
     "data": {
      "text/plain": [
       "1056"
      ]
     },
     "execution_count": 14,
     "metadata": {},
     "output_type": "execute_result"
    }
   ],
   "source": [
    "ne_dnevi = VPRASANJA[\"Dan v Tednu\"].isna()\n",
    "VPRASANJA[ne_dnevi].shape[0]"
   ]
  },
  {
   "cell_type": "markdown",
   "metadata": {},
   "source": [
    "Oglejmo si še najbolj zgodno in najbolj pozno vprašanje med prenesenimi."
   ]
  },
  {
   "cell_type": "code",
   "execution_count": 15,
   "metadata": {},
   "outputs": [
    {
     "name": "stdout",
     "output_type": "stream",
     "text": [
      "2010-03-27 14:33:20\n",
      "2023-08-16 14:17:42\n"
     ]
    }
   ],
   "source": [
    "print(VPRASANJA[\"Datum in ura\"].min())\n",
    "print(VPRASANJA[\"Datum in ura\"].max())"
   ]
  },
  {
   "cell_type": "markdown",
   "metadata": {},
   "source": [
    "Koliko časa je minilo med njima?"
   ]
  },
  {
   "cell_type": "code",
   "execution_count": 16,
   "metadata": {},
   "outputs": [
    {
     "data": {
      "text/plain": [
       "Timedelta('4889 days 23:44:22')"
      ]
     },
     "execution_count": 16,
     "metadata": {},
     "output_type": "execute_result"
    }
   ],
   "source": [
    "VPRASANJA[\"Datum in ura\"].max() - VPRASANJA[\"Datum in ura\"].min()"
   ]
  },
  {
   "cell_type": "markdown",
   "metadata": {},
   "source": [
    "Za konec si še oglejmo koliko vprašanj ima sprejet odgovor in koliko med njimi ima opombe.\n"
   ]
  },
  {
   "cell_type": "code",
   "execution_count": 17,
   "metadata": {},
   "outputs": [
    {
     "data": {
      "text/plain": [
       "<Axes: >"
      ]
     },
     "execution_count": 17,
     "metadata": {},
     "output_type": "execute_result"
    },
    {
     "data": {
      "image/png": "[encoded data removed]",
      "text/plain": [
       "<Figure size 640x480 with 1 Axes>"
      ]
     },
     "metadata": {},
     "output_type": "display_data"
    }
   ],
   "source": [
    "VPRASANJA.groupby(by = \"Sprejet odgovor\").size().plot.pie(autopct='%1.1f%%')"
   ]
  },
  {
   "cell_type": "code",
   "execution_count": 18,
   "metadata": {},
   "outputs": [
    {
     "data": {
      "text/plain": [
       "<Axes: >"
      ]
     },
     "execution_count": 18,
     "metadata": {},
     "output_type": "execute_result"
    },
    {
     "data": {
      "image/png": "[encoded data removed]",
      "text/plain": [
       "<Figure size 640x480 with 1 Axes>"
      ]
     },
     "metadata": {},
     "output_type": "display_data"
    }
   ],
   "source": [
    "VPRASANJA.groupby(by = \"Opomba\").size().plot.pie(autopct='%1.1f%%')"
   ]
  },
  {
   "cell_type": "code",
   "execution_count": 19,
   "metadata": {},
   "outputs": [
    {
     "name": "stdout",
     "output_type": "stream",
     "text": [
      "Izluščili smo 7163 zaprtih vprašanj in 13054 duplikatov\n"
     ]
    }
   ],
   "source": [
    "print(f\"\"\"Izluščili smo {VPRASANJA[VPRASANJA[\"Opomba\"] == \"Zaprt\"].shape[0]} zaprtih vprašanj in \"\"\"\n",
    "f\"\"\"{VPRASANJA[VPRASANJA[\"Opomba\"] == \"Duplikat\"].shape[0]} duplikatov.\"\"\")"
   ]
  }
 ],
 "metadata": {
  "kernelspec": {
   "display_name": "Python 3",
   "language": "python",
   "name": "python3"
  },
  "language_info": {
   "codemirror_mode": {
    "name": "ipython",
    "version": 3
   },
   "file_extension": ".py",
   "mimetype": "text/x-python",
   "name": "python",
   "nbconvert_exporter": "python",
   "pygments_lexer": "ipython3",
   "version": "3.10.11"
  },
  "orig_nbformat": 4
 },
 "nbformat": 4,
 "nbformat_minor": 2
}
