{
 "cells": [
  {
   "cell_type": "markdown",
   "metadata": {},
   "source": [
    "### Dobrodošli v programu za analizo vprašanj na strani math.stackexchange.com. \n",
    "\n"
   ]
  },
  {
   "cell_type": "markdown",
   "metadata": {},
   "source": [
    "Pred vami je datoteka z analizo. Za uporabo morate le pognati vsako okence s kodo. Da vam prikrajšam čas, sem vprašanja že shranil in vam zato prvega okenca ni potrebno poganjati. V ta namen sem zakomentiral funkcijo."
   ]
  },
  {
   "cell_type": "markdown",
   "metadata": {},
   "source": [
    "Za začetek bi lahko z njihove strani shranili nekaj vprašanj v CSV datoteko. V ta namen bi pognali naslednje okence s kodo."
   ]
  },
  {
   "cell_type": "code",
   "execution_count": null,
   "metadata": {},
   "outputs": [],
   "source": [
    "from Shranjevanje_podatkov import shrani_vprasanja_v_CSV\n",
    "\n",
    "ime_CSV_datoteke_za_analizo = \"Vprasanja.csv\"\n",
    "ime_mape_za_analizo = \"Analiza\"\n",
    "število_strani_za_analizo = \"3\"\n",
    "filter_za_analizo = \"Votes\"\n",
    "\n",
    "# shrani_vprasanja_v_CSV(ime_CSV_datoteke_za_analizo, ime_mape_za_analizo, število_strani_za_analizo, filter_za_analizo)"
   ]
  },
  {
   "cell_type": "markdown",
   "metadata": {},
   "source": [
    "Pojaviti bi se morala mapa z želenim imenom, v njej pa nas bi morali pričakati CSV datoteki z vprašanji in oznakami. "
   ]
  },
  {
   "cell_type": "markdown",
   "metadata": {},
   "source": [
    "Za ogrevanje si najprej oglejmo, koliko vprašanj je na celotnem forumu."
   ]
  },
  {
   "cell_type": "code",
   "execution_count": null,
   "metadata": {},
   "outputs": [],
   "source": [
    "from Izluscevanje_podatkov import izlusci_stevilo_vseh_vprasanj_in_vseh_strani\n",
    "izlusci_stevilo_vseh_vprasanj_in_vseh_strani()[0]"
   ]
  },
  {
   "cell_type": "markdown",
   "metadata": {},
   "source": [
    "Začnimo z analizo shranjenih podatkov. V prvem korako bomo s pomočjo knjižnice Pandas ustvarili razpredelnico(DataFrame). Ker nas bodo v bodoče zanimale tudi oznake, shranimo v razpredelnico tudi te."
   ]
  },
  {
   "cell_type": "code",
   "execution_count": null,
   "metadata": {},
   "outputs": [],
   "source": [
    "import pandas as pd\n",
    "import os\n",
    "\n",
    "\n",
    "VPRASANJA = pd.read_csv(os.path.join(ime_mape_za_analizo,ime_CSV_datoteke_za_analizo), index_col=\"Id\", parse_dates=[\"Datum in ura\"])\n",
    "OZNAKE = pd.read_csv(os.path.join(ime_mape_za_analizo,ime_CSV_datoteke_za_analizo[:-4] + \"_oznake.csv\"))\n",
    "VPRASANJA\n"
   ]
  },
  {
   "cell_type": "markdown",
   "metadata": {},
   "source": [
    "Če želimo preveriti koliko vprašanj smo shranili:"
   ]
  },
  {
   "cell_type": "code",
   "execution_count": null,
   "metadata": {},
   "outputs": [],
   "source": [
    "VPRASANJA.shape[0]"
   ]
  },
  {
   "cell_type": "markdown",
   "metadata": {},
   "source": [
    "Shranjena vprašanja lahko sedaj razvrstimo po številu glasov, da vidimo, katero je najbolj priljubljeno."
   ]
  },
  {
   "cell_type": "code",
   "execution_count": null,
   "metadata": {},
   "outputs": [],
   "source": [
    "VPRASANJA.sort_values(by=[\"Glasovi\"], ascending=False)"
   ]
  },
  {
   "cell_type": "markdown",
   "metadata": {},
   "source": [
    "Opazimo, da ne vidimo celotnega vprašanja, zato si ga oglejmo pobliže."
   ]
  },
  {
   "cell_type": "code",
   "execution_count": null,
   "metadata": {},
   "outputs": [],
   "source": [
    "VPRASANJA.loc[733754, \"Ime\"]"
   ]
  },
  {
   "cell_type": "markdown",
   "metadata": {},
   "source": [
    "Oglejmo si, kakšne ozanke je avtor podelil temu vprašanju."
   ]
  },
  {
   "cell_type": "code",
   "execution_count": null,
   "metadata": {},
   "outputs": [],
   "source": [
    "OZNAKE[OZNAKE[\"Id\"] == 733754]"
   ]
  },
  {
   "cell_type": "markdown",
   "metadata": {},
   "source": [
    "Poglejmo, katere izmed oznak se pojavljajo največkrat."
   ]
  },
  {
   "cell_type": "code",
   "execution_count": null,
   "metadata": {},
   "outputs": [],
   "source": [
    "po_oznakah = OZNAKE.groupby(by = [\"Oznaka\"])[\"Oznaka\"].size()\n",
    "po_oznakah.sort_values(ascending=False, inplace=True)\n",
    "po_oznakah.head(3)"
   ]
  },
  {
   "cell_type": "markdown",
   "metadata": {},
   "source": [
    "Oglejmo si graf, ki nam bo pokazal povezavo med stevilom odgovorov in stevilom vprasanj:\n"
   ]
  },
  {
   "cell_type": "code",
   "execution_count": null,
   "metadata": {},
   "outputs": [],
   "source": [
    "po_odgovorih = VPRASANJA.groupby(by = \"Odgovori\").size()\n",
    "po_odgovorih.plot.bar(ylabel = \"količina vprašanj\")"
   ]
  },
  {
   "cell_type": "markdown",
   "metadata": {},
   "source": [
    "Mogoče nas zanima na kateri dan v tednu je bilo objavljeno kakšno vprašanje. "
   ]
  },
  {
   "cell_type": "code",
   "execution_count": null,
   "metadata": {},
   "outputs": [],
   "source": [
    "from Pomozne_funkcije import prevedi\n",
    "\n",
    "\n",
    "VPRASANJA[\"Dan v Tednu\"] = VPRASANJA[\"Datum in ura\"].dt.day_name()\n",
    "VPRASANJA[\"Dan v Tednu\"] = VPRASANJA[\"Dan v Tednu\"].map(prevedi)\n",
    "VPRASANJA"
   ]
  },
  {
   "cell_type": "markdown",
   "metadata": {},
   "source": [
    "Ali je mad dnevi v tednu in vprašanji kakšna korelacija?"
   ]
  },
  {
   "cell_type": "code",
   "execution_count": null,
   "metadata": {},
   "outputs": [],
   "source": [
    "jojo = VPRASANJA[\"Dan v Tednu\"].apply(lambda x: len(str(x)) >4)\n",
    "VPRASANJA[jojo].groupby(\"Dan v Tednu\").size().plot.pie()"
   ]
  },
  {
   "cell_type": "markdown",
   "metadata": {},
   "source": [
    "Oglejmo si še najbolj zgodno in najbolj pozno vprašanje med prenesenimi."
   ]
  },
  {
   "cell_type": "code",
   "execution_count": null,
   "metadata": {},
   "outputs": [],
   "source": [
    "print(VPRASANJA[\"Datum in ura\"].min())\n",
    "print(VPRASANJA[\"Datum in ura\"].max())"
   ]
  },
  {
   "cell_type": "markdown",
   "metadata": {},
   "source": [
    "Med njima je minilo veliko časa:"
   ]
  },
  {
   "cell_type": "code",
   "execution_count": null,
   "metadata": {},
   "outputs": [],
   "source": [
    "VPRASANJA[\"Datum in ura\"].max() - VPRASANJA[\"Datum in ura\"].min()"
   ]
  }
 ],
 "metadata": {
  "kernelspec": {
   "display_name": "Python 3",
   "language": "python",
   "name": "python3"
  },
  "language_info": {
   "codemirror_mode": {
    "name": "ipython",
    "version": 3
   },
   "file_extension": ".py",
   "mimetype": "text/x-python",
   "name": "python",
   "nbconvert_exporter": "python",
   "pygments_lexer": "ipython3",
   "version": "3.10.11"
  },
  "orig_nbformat": 4
 },
 "nbformat": 4,
 "nbformat_minor": 2
}
