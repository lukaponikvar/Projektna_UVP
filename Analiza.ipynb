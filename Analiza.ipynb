{
 "cells": [
  {
   "cell_type": "markdown",
   "metadata": {},
   "source": [
    "### Dobrodošli v programu za analizo vprašanj na strani math.stackexchange.com. \n",
    "\n"
   ]
  },
  {
   "cell_type": "markdown",
   "metadata": {},
   "source": [
    "To je forum, kjer lahko vsi ljubitelji matematike postavljajo vprašanja, ali pa nanje odgovarjajo. Za začetek lahko z njihove strani shranimo nekaj vprašanj v CSV datoteko. V ta namen lahko poženete naslednje okence s kodo."
   ]
  },
  {
   "cell_type": "code",
   "execution_count": 1,
   "metadata": {},
   "outputs": [
    {
     "name": "stdout",
     "output_type": "stream",
     "text": [
      "Shranjeno (1/4)\n",
      "Shranjeno (2/4)\n",
      "Shranjeno (3/4)\n",
      "Shranjeno (4/4)\n",
      "CSV je bil uspešno shranjen.\n"
     ]
    }
   ],
   "source": [
    "from Shranjevanje_podatkov import shrani_vprasanja_v_CSV\n",
    "\n",
    "\n",
    "ime_CSV_datoteke_za_analizo = \"Vprasanja.csv\"\n",
    "ime_mape_za_analizo = \"Analiza\"\n",
    "število_strani_za_analizo = \"4\"\n",
    "filter_za_analizo = \"Votes\"\n",
    "\n",
    "shrani_vprasanja_v_CSV(ime_CSV_datoteke_za_analizo, ime_mape_za_analizo, število_strani_za_analizo, filter_za_analizo)"
   ]
  },
  {
   "cell_type": "markdown",
   "metadata": {},
   "source": [
    "Pojaviti bi se morala mapa z želenim imenom, v njej pa nas bi morali pričakati CSV datoteki z vprašanji in oznakami. "
   ]
  },
  {
   "cell_type": "markdown",
   "metadata": {},
   "source": [
    "Začnimo z analizo shranjenih podatkov. V prvem korako bomo s pomočjo knjižnice Pandas ustvarili razpredelnico(DataFrame). Ker nas bodo v bodoče zanimale tudi oznake, shranimo v razpredelnico tudi te."
   ]
  },
  {
   "cell_type": "code",
   "execution_count": 2,
   "metadata": {},
   "outputs": [
    {
     "data": {
      "text/html": [
       "<div>\n",
       "<style scoped>\n",
       "    .dataframe tbody tr th:only-of-type {\n",
       "        vertical-align: middle;\n",
       "    }\n",
       "\n",
       "    .dataframe tbody tr th {\n",
       "        vertical-align: top;\n",
       "    }\n",
       "\n",
       "    .dataframe thead th {\n",
       "        text-align: right;\n",
       "    }\n",
       "</style>\n",
       "<table border=\"1\" class=\"dataframe\">\n",
       "  <thead>\n",
       "    <tr style=\"text-align: right;\">\n",
       "      <th></th>\n",
       "      <th>Ime</th>\n",
       "      <th>Opomba</th>\n",
       "      <th>Glasovi</th>\n",
       "      <th>Odgovori</th>\n",
       "      <th>Sprejet odgovor</th>\n",
       "      <th>Ogledi</th>\n",
       "      <th>Datum in ura</th>\n",
       "    </tr>\n",
       "    <tr>\n",
       "      <th>Id</th>\n",
       "      <th></th>\n",
       "      <th></th>\n",
       "      <th></th>\n",
       "      <th></th>\n",
       "      <th></th>\n",
       "      <th></th>\n",
       "      <th></th>\n",
       "    </tr>\n",
       "  </thead>\n",
       "  <tbody>\n",
       "    <tr>\n",
       "      <th>733754</th>\n",
       "      <td>Visually stunning math concepts which are easy...</td>\n",
       "      <td>Odprt</td>\n",
       "      <td>1594</td>\n",
       "      <td>87</td>\n",
       "      <td>Ne</td>\n",
       "      <td>593506</td>\n",
       "      <td>NaT</td>\n",
       "    </tr>\n",
       "    <tr>\n",
       "      <th>21199</th>\n",
       "      <td>Is $\\frac{\\textrm{d}y}{\\textrm{d}x}$ not a ratio?</td>\n",
       "      <td>Odprt</td>\n",
       "      <td>1269</td>\n",
       "      <td>26</td>\n",
       "      <td>Da</td>\n",
       "      <td>136391</td>\n",
       "      <td>2011-02-09 16:23:43</td>\n",
       "    </tr>\n",
       "    <tr>\n",
       "      <th>379927</th>\n",
       "      <td>How long will it take Marie to saw another boa...</td>\n",
       "      <td>Odprt</td>\n",
       "      <td>1086</td>\n",
       "      <td>32</td>\n",
       "      <td>Da</td>\n",
       "      <td>152079</td>\n",
       "      <td>2013-05-03 03:31:47</td>\n",
       "    </tr>\n",
       "    <tr>\n",
       "      <th>71874</th>\n",
       "      <td>Can I use my powers for good?</td>\n",
       "      <td>Zaprt</td>\n",
       "      <td>920</td>\n",
       "      <td>29</td>\n",
       "      <td>Ne</td>\n",
       "      <td>97452</td>\n",
       "      <td>NaT</td>\n",
       "    </tr>\n",
       "    <tr>\n",
       "      <th>12906</th>\n",
       "      <td>The staircase paradox, or why $\\pi\\ne4$</td>\n",
       "      <td>Odprt</td>\n",
       "      <td>877</td>\n",
       "      <td>22</td>\n",
       "      <td>Da</td>\n",
       "      <td>110626</td>\n",
       "      <td>2010-12-03 13:44:56</td>\n",
       "    </tr>\n",
       "    <tr>\n",
       "      <th>...</th>\n",
       "      <td>...</td>\n",
       "      <td>...</td>\n",
       "      <td>...</td>\n",
       "      <td>...</td>\n",
       "      <td>...</td>\n",
       "      <td>...</td>\n",
       "      <td>...</td>\n",
       "    </tr>\n",
       "    <tr>\n",
       "      <th>4202</th>\n",
       "      <td>Induction on Real Numbers</td>\n",
       "      <td>Odprt</td>\n",
       "      <td>172</td>\n",
       "      <td>7</td>\n",
       "      <td>Da</td>\n",
       "      <td>30557</td>\n",
       "      <td>2010-09-07 11:39:16</td>\n",
       "    </tr>\n",
       "    <tr>\n",
       "      <th>7473</th>\n",
       "      <td>Prove that $\\gcd(a^n - 1, a^m - 1) = a^{\\gcd(n...</td>\n",
       "      <td>Odprt</td>\n",
       "      <td>172</td>\n",
       "      <td>10</td>\n",
       "      <td>Ne</td>\n",
       "      <td>48141</td>\n",
       "      <td>2010-10-22 00:47:26</td>\n",
       "    </tr>\n",
       "    <tr>\n",
       "      <th>116026</th>\n",
       "      <td>Is $2048$ the highest power of $2$ with all ev...</td>\n",
       "      <td>Odprt</td>\n",
       "      <td>172</td>\n",
       "      <td>3</td>\n",
       "      <td>Da</td>\n",
       "      <td>17216</td>\n",
       "      <td>2012-03-03 17:35:35</td>\n",
       "    </tr>\n",
       "    <tr>\n",
       "      <th>169521</th>\n",
       "      <td>Is there a categorical definition of submetry?</td>\n",
       "      <td>Odprt</td>\n",
       "      <td>172</td>\n",
       "      <td>1</td>\n",
       "      <td>Ne</td>\n",
       "      <td>3304</td>\n",
       "      <td>2012-07-11 16:14:30</td>\n",
       "    </tr>\n",
       "    <tr>\n",
       "      <th>20397</th>\n",
       "      <td>Striking applications of integration by parts</td>\n",
       "      <td>Odprt</td>\n",
       "      <td>171</td>\n",
       "      <td>20</td>\n",
       "      <td>Ne</td>\n",
       "      <td>28733</td>\n",
       "      <td>NaT</td>\n",
       "    </tr>\n",
       "  </tbody>\n",
       "</table>\n",
       "<p>200 rows × 7 columns</p>\n",
       "</div>"
      ],
      "text/plain": [
       "                                                      Ime Opomba  Glasovi   \n",
       "Id                                                                          \n",
       "733754  Visually stunning math concepts which are easy...  Odprt     1594  \\\n",
       "21199   Is $\\frac{\\textrm{d}y}{\\textrm{d}x}$ not a ratio?  Odprt     1269   \n",
       "379927  How long will it take Marie to saw another boa...  Odprt     1086   \n",
       "71874                       Can I use my powers for good?  Zaprt      920   \n",
       "12906             The staircase paradox, or why $\\pi\\ne4$  Odprt      877   \n",
       "...                                                   ...    ...      ...   \n",
       "4202                            Induction on Real Numbers  Odprt      172   \n",
       "7473    Prove that $\\gcd(a^n - 1, a^m - 1) = a^{\\gcd(n...  Odprt      172   \n",
       "116026  Is $2048$ the highest power of $2$ with all ev...  Odprt      172   \n",
       "169521     Is there a categorical definition of submetry?  Odprt      172   \n",
       "20397       Striking applications of integration by parts  Odprt      171   \n",
       "\n",
       "        Odgovori Sprejet odgovor  Ogledi        Datum in ura  \n",
       "Id                                                            \n",
       "733754        87              Ne  593506                 NaT  \n",
       "21199         26              Da  136391 2011-02-09 16:23:43  \n",
       "379927        32              Da  152079 2013-05-03 03:31:47  \n",
       "71874         29              Ne   97452                 NaT  \n",
       "12906         22              Da  110626 2010-12-03 13:44:56  \n",
       "...          ...             ...     ...                 ...  \n",
       "4202           7              Da   30557 2010-09-07 11:39:16  \n",
       "7473          10              Ne   48141 2010-10-22 00:47:26  \n",
       "116026         3              Da   17216 2012-03-03 17:35:35  \n",
       "169521         1              Ne    3304 2012-07-11 16:14:30  \n",
       "20397         20              Ne   28733                 NaT  \n",
       "\n",
       "[200 rows x 7 columns]"
      ]
     },
     "execution_count": 2,
     "metadata": {},
     "output_type": "execute_result"
    }
   ],
   "source": [
    "import pandas as pd\n",
    "import os\n",
    "\n",
    "\n",
    "VPRASANJA = pd.read_csv(os.path.join(ime_mape_za_analizo,ime_CSV_datoteke_za_analizo), index_col=\"Id\", parse_dates=[\"Datum in ura\"])\n",
    "OZNAKE = pd.read_csv(os.path.join(ime_mape_za_analizo,ime_CSV_datoteke_za_analizo[:-4] + \"_oznake.csv\"))\n",
    "VPRASANJA\n"
   ]
  },
  {
   "cell_type": "markdown",
   "metadata": {},
   "source": [
    "Če želimo preveriti koliko vprašanj smo shranili:"
   ]
  },
  {
   "cell_type": "code",
   "execution_count": 4,
   "metadata": {},
   "outputs": [
    {
     "data": {
      "text/plain": [
       "200"
      ]
     },
     "execution_count": 4,
     "metadata": {},
     "output_type": "execute_result"
    }
   ],
   "source": [
    "VPRASANJA.shape[0]"
   ]
  },
  {
   "cell_type": "markdown",
   "metadata": {},
   "source": [
    "Shranjena vprašanja lahko sedaj razvrstimo po številu glasov, da vidimo, katero je najbolj priljubljeno."
   ]
  },
  {
   "cell_type": "code",
   "execution_count": 5,
   "metadata": {},
   "outputs": [
    {
     "data": {
      "text/html": [
       "<div>\n",
       "<style scoped>\n",
       "    .dataframe tbody tr th:only-of-type {\n",
       "        vertical-align: middle;\n",
       "    }\n",
       "\n",
       "    .dataframe tbody tr th {\n",
       "        vertical-align: top;\n",
       "    }\n",
       "\n",
       "    .dataframe thead th {\n",
       "        text-align: right;\n",
       "    }\n",
       "</style>\n",
       "<table border=\"1\" class=\"dataframe\">\n",
       "  <thead>\n",
       "    <tr style=\"text-align: right;\">\n",
       "      <th></th>\n",
       "      <th>Ime</th>\n",
       "      <th>Opomba</th>\n",
       "      <th>Glasovi</th>\n",
       "      <th>Odgovori</th>\n",
       "      <th>Sprejet odgovor</th>\n",
       "      <th>Ogledi</th>\n",
       "      <th>Datum in ura</th>\n",
       "    </tr>\n",
       "    <tr>\n",
       "      <th>Id</th>\n",
       "      <th></th>\n",
       "      <th></th>\n",
       "      <th></th>\n",
       "      <th></th>\n",
       "      <th></th>\n",
       "      <th></th>\n",
       "      <th></th>\n",
       "    </tr>\n",
       "  </thead>\n",
       "  <tbody>\n",
       "    <tr>\n",
       "      <th>733754</th>\n",
       "      <td>Visually stunning math concepts which are easy...</td>\n",
       "      <td>Odprt</td>\n",
       "      <td>1594</td>\n",
       "      <td>87</td>\n",
       "      <td>Ne</td>\n",
       "      <td>593506</td>\n",
       "      <td>NaT</td>\n",
       "    </tr>\n",
       "    <tr>\n",
       "      <th>21199</th>\n",
       "      <td>Is $\\frac{\\textrm{d}y}{\\textrm{d}x}$ not a ratio?</td>\n",
       "      <td>Odprt</td>\n",
       "      <td>1269</td>\n",
       "      <td>26</td>\n",
       "      <td>Da</td>\n",
       "      <td>136391</td>\n",
       "      <td>2011-02-09 16:23:43</td>\n",
       "    </tr>\n",
       "    <tr>\n",
       "      <th>379927</th>\n",
       "      <td>How long will it take Marie to saw another boa...</td>\n",
       "      <td>Odprt</td>\n",
       "      <td>1086</td>\n",
       "      <td>32</td>\n",
       "      <td>Da</td>\n",
       "      <td>152079</td>\n",
       "      <td>2013-05-03 03:31:47</td>\n",
       "    </tr>\n",
       "    <tr>\n",
       "      <th>71874</th>\n",
       "      <td>Can I use my powers for good?</td>\n",
       "      <td>Zaprt</td>\n",
       "      <td>920</td>\n",
       "      <td>29</td>\n",
       "      <td>Ne</td>\n",
       "      <td>97452</td>\n",
       "      <td>NaT</td>\n",
       "    </tr>\n",
       "    <tr>\n",
       "      <th>12906</th>\n",
       "      <td>The staircase paradox, or why $\\pi\\ne4$</td>\n",
       "      <td>Odprt</td>\n",
       "      <td>877</td>\n",
       "      <td>22</td>\n",
       "      <td>Da</td>\n",
       "      <td>110626</td>\n",
       "      <td>2010-12-03 13:44:56</td>\n",
       "    </tr>\n",
       "    <tr>\n",
       "      <th>...</th>\n",
       "      <td>...</td>\n",
       "      <td>...</td>\n",
       "      <td>...</td>\n",
       "      <td>...</td>\n",
       "      <td>...</td>\n",
       "      <td>...</td>\n",
       "      <td>...</td>\n",
       "    </tr>\n",
       "    <tr>\n",
       "      <th>4202</th>\n",
       "      <td>Induction on Real Numbers</td>\n",
       "      <td>Odprt</td>\n",
       "      <td>172</td>\n",
       "      <td>7</td>\n",
       "      <td>Da</td>\n",
       "      <td>30557</td>\n",
       "      <td>2010-09-07 11:39:16</td>\n",
       "    </tr>\n",
       "    <tr>\n",
       "      <th>7473</th>\n",
       "      <td>Prove that $\\gcd(a^n - 1, a^m - 1) = a^{\\gcd(n...</td>\n",
       "      <td>Odprt</td>\n",
       "      <td>172</td>\n",
       "      <td>10</td>\n",
       "      <td>Ne</td>\n",
       "      <td>48141</td>\n",
       "      <td>2010-10-22 00:47:26</td>\n",
       "    </tr>\n",
       "    <tr>\n",
       "      <th>116026</th>\n",
       "      <td>Is $2048$ the highest power of $2$ with all ev...</td>\n",
       "      <td>Odprt</td>\n",
       "      <td>172</td>\n",
       "      <td>3</td>\n",
       "      <td>Da</td>\n",
       "      <td>17216</td>\n",
       "      <td>2012-03-03 17:35:35</td>\n",
       "    </tr>\n",
       "    <tr>\n",
       "      <th>169521</th>\n",
       "      <td>Is there a categorical definition of submetry?</td>\n",
       "      <td>Odprt</td>\n",
       "      <td>172</td>\n",
       "      <td>1</td>\n",
       "      <td>Ne</td>\n",
       "      <td>3304</td>\n",
       "      <td>2012-07-11 16:14:30</td>\n",
       "    </tr>\n",
       "    <tr>\n",
       "      <th>20397</th>\n",
       "      <td>Striking applications of integration by parts</td>\n",
       "      <td>Odprt</td>\n",
       "      <td>171</td>\n",
       "      <td>20</td>\n",
       "      <td>Ne</td>\n",
       "      <td>28733</td>\n",
       "      <td>NaT</td>\n",
       "    </tr>\n",
       "  </tbody>\n",
       "</table>\n",
       "<p>200 rows × 7 columns</p>\n",
       "</div>"
      ],
      "text/plain": [
       "                                                      Ime Opomba  Glasovi   \n",
       "Id                                                                          \n",
       "733754  Visually stunning math concepts which are easy...  Odprt     1594  \\\n",
       "21199   Is $\\frac{\\textrm{d}y}{\\textrm{d}x}$ not a ratio?  Odprt     1269   \n",
       "379927  How long will it take Marie to saw another boa...  Odprt     1086   \n",
       "71874                       Can I use my powers for good?  Zaprt      920   \n",
       "12906             The staircase paradox, or why $\\pi\\ne4$  Odprt      877   \n",
       "...                                                   ...    ...      ...   \n",
       "4202                            Induction on Real Numbers  Odprt      172   \n",
       "7473    Prove that $\\gcd(a^n - 1, a^m - 1) = a^{\\gcd(n...  Odprt      172   \n",
       "116026  Is $2048$ the highest power of $2$ with all ev...  Odprt      172   \n",
       "169521     Is there a categorical definition of submetry?  Odprt      172   \n",
       "20397       Striking applications of integration by parts  Odprt      171   \n",
       "\n",
       "        Odgovori Sprejet odgovor  Ogledi        Datum in ura  \n",
       "Id                                                            \n",
       "733754        87              Ne  593506                 NaT  \n",
       "21199         26              Da  136391 2011-02-09 16:23:43  \n",
       "379927        32              Da  152079 2013-05-03 03:31:47  \n",
       "71874         29              Ne   97452                 NaT  \n",
       "12906         22              Da  110626 2010-12-03 13:44:56  \n",
       "...          ...             ...     ...                 ...  \n",
       "4202           7              Da   30557 2010-09-07 11:39:16  \n",
       "7473          10              Ne   48141 2010-10-22 00:47:26  \n",
       "116026         3              Da   17216 2012-03-03 17:35:35  \n",
       "169521         1              Ne    3304 2012-07-11 16:14:30  \n",
       "20397         20              Ne   28733                 NaT  \n",
       "\n",
       "[200 rows x 7 columns]"
      ]
     },
     "execution_count": 5,
     "metadata": {},
     "output_type": "execute_result"
    }
   ],
   "source": [
    "VPRASANJA.sort_values(by=[\"Glasovi\"], ascending=False)"
   ]
  },
  {
   "cell_type": "markdown",
   "metadata": {},
   "source": [
    "Opazimo, da ne vidimo celotnega vprašanja, zato si ga oglejmo pobliže."
   ]
  },
  {
   "cell_type": "code",
   "execution_count": 6,
   "metadata": {},
   "outputs": [
    {
     "data": {
      "text/plain": [
       "'Visually stunning math concepts which are easy to explain'"
      ]
     },
     "execution_count": 6,
     "metadata": {},
     "output_type": "execute_result"
    }
   ],
   "source": [
    "VPRASANJA.loc[733754, \"Ime\"]"
   ]
  },
  {
   "cell_type": "markdown",
   "metadata": {},
   "source": [
    "Oglejmo si, kakšne ozanke je avtor podelil temu vprašanju."
   ]
  },
  {
   "cell_type": "code",
   "execution_count": 7,
   "metadata": {},
   "outputs": [
    {
     "data": {
      "text/html": [
       "<div>\n",
       "<style scoped>\n",
       "    .dataframe tbody tr th:only-of-type {\n",
       "        vertical-align: middle;\n",
       "    }\n",
       "\n",
       "    .dataframe tbody tr th {\n",
       "        vertical-align: top;\n",
       "    }\n",
       "\n",
       "    .dataframe thead th {\n",
       "        text-align: right;\n",
       "    }\n",
       "</style>\n",
       "<table border=\"1\" class=\"dataframe\">\n",
       "  <thead>\n",
       "    <tr style=\"text-align: right;\">\n",
       "      <th></th>\n",
       "      <th>Id</th>\n",
       "      <th>Oznaka</th>\n",
       "    </tr>\n",
       "  </thead>\n",
       "  <tbody>\n",
       "    <tr>\n",
       "      <th>0</th>\n",
       "      <td>733754</td>\n",
       "      <td>soft-question</td>\n",
       "    </tr>\n",
       "    <tr>\n",
       "      <th>1</th>\n",
       "      <td>733754</td>\n",
       "      <td>recreational-mathematics</td>\n",
       "    </tr>\n",
       "    <tr>\n",
       "      <th>2</th>\n",
       "      <td>733754</td>\n",
       "      <td>education</td>\n",
       "    </tr>\n",
       "    <tr>\n",
       "      <th>3</th>\n",
       "      <td>733754</td>\n",
       "      <td>big-list</td>\n",
       "    </tr>\n",
       "    <tr>\n",
       "      <th>4</th>\n",
       "      <td>733754</td>\n",
       "      <td>visualization</td>\n",
       "    </tr>\n",
       "  </tbody>\n",
       "</table>\n",
       "</div>"
      ],
      "text/plain": [
       "       Id                    Oznaka\n",
       "0  733754             soft-question\n",
       "1  733754  recreational-mathematics\n",
       "2  733754                 education\n",
       "3  733754                  big-list\n",
       "4  733754             visualization"
      ]
     },
     "execution_count": 7,
     "metadata": {},
     "output_type": "execute_result"
    }
   ],
   "source": [
    "OZNAKE[OZNAKE[\"Id\"] == 733754]"
   ]
  },
  {
   "cell_type": "markdown",
   "metadata": {},
   "source": [
    "Oglejmo si na kateri dan je izšlo vprašanje."
   ]
  },
  {
   "cell_type": "code",
   "execution_count": 9,
   "metadata": {},
   "outputs": [
    {
     "data": {
      "text/plain": [
       "nan"
      ]
     },
     "execution_count": 9,
     "metadata": {},
     "output_type": "execute_result"
    }
   ],
   "source": [
    "VPRASANJA.loc[733754, \"Datum in ura\"].day_name()"
   ]
  },
  {
   "cell_type": "markdown",
   "metadata": {},
   "source": [
    "Poglejmo, katere izmed oznak se pojavljajo največkrat."
   ]
  },
  {
   "cell_type": "code",
   "execution_count": 10,
   "metadata": {},
   "outputs": [
    {
     "data": {
      "text/plain": [
       "Oznaka\n",
       "soft-question    49\n",
       "big-list         32\n",
       "real-analysis    19\n",
       "Name: Oznaka, dtype: int64"
      ]
     },
     "execution_count": 10,
     "metadata": {},
     "output_type": "execute_result"
    }
   ],
   "source": [
    "po_oznakah = OZNAKE.groupby(by = [\"Oznaka\"])[\"Oznaka\"].size()\n",
    "po_oznakah.sort_values(ascending=False, inplace=True)\n",
    "po_oznakah.head(3)"
   ]
  },
  {
   "cell_type": "markdown",
   "metadata": {},
   "source": [
    "Oglejmo si graf, ki nam bo pokazal povezavo med stevilom odgovorov in stevilom vprasanj:\n"
   ]
  },
  {
   "cell_type": "code",
   "execution_count": 11,
   "metadata": {},
   "outputs": [
    {
     "data": {
      "text/plain": [
       "<Axes: xlabel='Odgovori', ylabel='količina vprašanj'>"
      ]
     },
     "execution_count": 11,
     "metadata": {},
     "output_type": "execute_result"
    },
    {
     "data": {
      "image/png": "[encoded data removed]",
      "text/plain": [
       "<Figure size 640x480 with 1 Axes>"
      ]
     },
     "metadata": {},
     "output_type": "display_data"
    }
   ],
   "source": [
    "po_odgovorih = VPRASANJA.groupby(by = \"Odgovori\").size()\n",
    "po_odgovorih.plot.bar(ylabel = \"količina vprašanj\")"
   ]
  },
  {
   "cell_type": "markdown",
   "metadata": {},
   "source": [
    "Mogoče nas zanima kateri dan v tednu je bilo objavljeno kakšno vprašanje. "
   ]
  },
  {
   "cell_type": "code",
   "execution_count": 20,
   "metadata": {},
   "outputs": [
    {
     "data": {
      "text/html": [
       "<div>\n",
       "<style scoped>\n",
       "    .dataframe tbody tr th:only-of-type {\n",
       "        vertical-align: middle;\n",
       "    }\n",
       "\n",
       "    .dataframe tbody tr th {\n",
       "        vertical-align: top;\n",
       "    }\n",
       "\n",
       "    .dataframe thead th {\n",
       "        text-align: right;\n",
       "    }\n",
       "</style>\n",
       "<table border=\"1\" class=\"dataframe\">\n",
       "  <thead>\n",
       "    <tr style=\"text-align: right;\">\n",
       "      <th></th>\n",
       "      <th>Ime</th>\n",
       "      <th>Opomba</th>\n",
       "      <th>Glasovi</th>\n",
       "      <th>Odgovori</th>\n",
       "      <th>Sprejet odgovor</th>\n",
       "      <th>Ogledi</th>\n",
       "      <th>Datum in ura</th>\n",
       "      <th>Dan v Tednu</th>\n",
       "    </tr>\n",
       "    <tr>\n",
       "      <th>Id</th>\n",
       "      <th></th>\n",
       "      <th></th>\n",
       "      <th></th>\n",
       "      <th></th>\n",
       "      <th></th>\n",
       "      <th></th>\n",
       "      <th></th>\n",
       "      <th></th>\n",
       "    </tr>\n",
       "  </thead>\n",
       "  <tbody>\n",
       "    <tr>\n",
       "      <th>733754</th>\n",
       "      <td>Visually stunning math concepts which are easy...</td>\n",
       "      <td>Odprt</td>\n",
       "      <td>1594</td>\n",
       "      <td>87</td>\n",
       "      <td>Ne</td>\n",
       "      <td>593506</td>\n",
       "      <td>NaT</td>\n",
       "      <td>NaN</td>\n",
       "    </tr>\n",
       "    <tr>\n",
       "      <th>21199</th>\n",
       "      <td>Is $\\frac{\\textrm{d}y}{\\textrm{d}x}$ not a ratio?</td>\n",
       "      <td>Odprt</td>\n",
       "      <td>1269</td>\n",
       "      <td>26</td>\n",
       "      <td>Da</td>\n",
       "      <td>136391</td>\n",
       "      <td>2011-02-09 16:23:43</td>\n",
       "      <td>Sreda</td>\n",
       "    </tr>\n",
       "    <tr>\n",
       "      <th>379927</th>\n",
       "      <td>How long will it take Marie to saw another boa...</td>\n",
       "      <td>Odprt</td>\n",
       "      <td>1086</td>\n",
       "      <td>32</td>\n",
       "      <td>Da</td>\n",
       "      <td>152079</td>\n",
       "      <td>2013-05-03 03:31:47</td>\n",
       "      <td>Petek</td>\n",
       "    </tr>\n",
       "    <tr>\n",
       "      <th>71874</th>\n",
       "      <td>Can I use my powers for good?</td>\n",
       "      <td>Zaprt</td>\n",
       "      <td>920</td>\n",
       "      <td>29</td>\n",
       "      <td>Ne</td>\n",
       "      <td>97452</td>\n",
       "      <td>NaT</td>\n",
       "      <td>NaN</td>\n",
       "    </tr>\n",
       "    <tr>\n",
       "      <th>12906</th>\n",
       "      <td>The staircase paradox, or why $\\pi\\ne4$</td>\n",
       "      <td>Odprt</td>\n",
       "      <td>877</td>\n",
       "      <td>22</td>\n",
       "      <td>Da</td>\n",
       "      <td>110626</td>\n",
       "      <td>2010-12-03 13:44:56</td>\n",
       "      <td>Petek</td>\n",
       "    </tr>\n",
       "    <tr>\n",
       "      <th>...</th>\n",
       "      <td>...</td>\n",
       "      <td>...</td>\n",
       "      <td>...</td>\n",
       "      <td>...</td>\n",
       "      <td>...</td>\n",
       "      <td>...</td>\n",
       "      <td>...</td>\n",
       "      <td>...</td>\n",
       "    </tr>\n",
       "    <tr>\n",
       "      <th>4202</th>\n",
       "      <td>Induction on Real Numbers</td>\n",
       "      <td>Odprt</td>\n",
       "      <td>172</td>\n",
       "      <td>7</td>\n",
       "      <td>Da</td>\n",
       "      <td>30557</td>\n",
       "      <td>2010-09-07 11:39:16</td>\n",
       "      <td>Torek</td>\n",
       "    </tr>\n",
       "    <tr>\n",
       "      <th>7473</th>\n",
       "      <td>Prove that $\\gcd(a^n - 1, a^m - 1) = a^{\\gcd(n...</td>\n",
       "      <td>Odprt</td>\n",
       "      <td>172</td>\n",
       "      <td>10</td>\n",
       "      <td>Ne</td>\n",
       "      <td>48141</td>\n",
       "      <td>2010-10-22 00:47:26</td>\n",
       "      <td>Petek</td>\n",
       "    </tr>\n",
       "    <tr>\n",
       "      <th>116026</th>\n",
       "      <td>Is $2048$ the highest power of $2$ with all ev...</td>\n",
       "      <td>Odprt</td>\n",
       "      <td>172</td>\n",
       "      <td>3</td>\n",
       "      <td>Da</td>\n",
       "      <td>17216</td>\n",
       "      <td>2012-03-03 17:35:35</td>\n",
       "      <td>Sobota</td>\n",
       "    </tr>\n",
       "    <tr>\n",
       "      <th>169521</th>\n",
       "      <td>Is there a categorical definition of submetry?</td>\n",
       "      <td>Odprt</td>\n",
       "      <td>172</td>\n",
       "      <td>1</td>\n",
       "      <td>Ne</td>\n",
       "      <td>3304</td>\n",
       "      <td>2012-07-11 16:14:30</td>\n",
       "      <td>Sreda</td>\n",
       "    </tr>\n",
       "    <tr>\n",
       "      <th>20397</th>\n",
       "      <td>Striking applications of integration by parts</td>\n",
       "      <td>Odprt</td>\n",
       "      <td>171</td>\n",
       "      <td>20</td>\n",
       "      <td>Ne</td>\n",
       "      <td>28733</td>\n",
       "      <td>NaT</td>\n",
       "      <td>NaN</td>\n",
       "    </tr>\n",
       "  </tbody>\n",
       "</table>\n",
       "<p>200 rows × 8 columns</p>\n",
       "</div>"
      ],
      "text/plain": [
       "                                                      Ime Opomba  Glasovi   \n",
       "Id                                                                          \n",
       "733754  Visually stunning math concepts which are easy...  Odprt     1594  \\\n",
       "21199   Is $\\frac{\\textrm{d}y}{\\textrm{d}x}$ not a ratio?  Odprt     1269   \n",
       "379927  How long will it take Marie to saw another boa...  Odprt     1086   \n",
       "71874                       Can I use my powers for good?  Zaprt      920   \n",
       "12906             The staircase paradox, or why $\\pi\\ne4$  Odprt      877   \n",
       "...                                                   ...    ...      ...   \n",
       "4202                            Induction on Real Numbers  Odprt      172   \n",
       "7473    Prove that $\\gcd(a^n - 1, a^m - 1) = a^{\\gcd(n...  Odprt      172   \n",
       "116026  Is $2048$ the highest power of $2$ with all ev...  Odprt      172   \n",
       "169521     Is there a categorical definition of submetry?  Odprt      172   \n",
       "20397       Striking applications of integration by parts  Odprt      171   \n",
       "\n",
       "        Odgovori Sprejet odgovor  Ogledi        Datum in ura Dan v Tednu  \n",
       "Id                                                                        \n",
       "733754        87              Ne  593506                 NaT         NaN  \n",
       "21199         26              Da  136391 2011-02-09 16:23:43       Sreda  \n",
       "379927        32              Da  152079 2013-05-03 03:31:47       Petek  \n",
       "71874         29              Ne   97452                 NaT         NaN  \n",
       "12906         22              Da  110626 2010-12-03 13:44:56       Petek  \n",
       "...          ...             ...     ...                 ...         ...  \n",
       "4202           7              Da   30557 2010-09-07 11:39:16       Torek  \n",
       "7473          10              Ne   48141 2010-10-22 00:47:26       Petek  \n",
       "116026         3              Da   17216 2012-03-03 17:35:35      Sobota  \n",
       "169521         1              Ne    3304 2012-07-11 16:14:30       Sreda  \n",
       "20397         20              Ne   28733                 NaT         NaN  \n",
       "\n",
       "[200 rows x 8 columns]"
      ]
     },
     "execution_count": 20,
     "metadata": {},
     "output_type": "execute_result"
    }
   ],
   "source": [
    "from Pomozne_funkcije import prevedi\n",
    "\n",
    "\n",
    "VPRASANJA[\"Dan v Tednu\"] = VPRASANJA[\"Datum in ura\"].dt.day_name()\n",
    "VPRASANJA[\"Dan v Tednu\"] = VPRASANJA[\"Dan v Tednu\"].map(prevedi)\n",
    "VPRASANJA"
   ]
  },
  {
   "cell_type": "markdown",
   "metadata": {},
   "source": [
    "Oglejmo si še najbolj zgodno in najbolj pozno vprašanje med prenesenimi."
   ]
  },
  {
   "cell_type": "code",
   "execution_count": 21,
   "metadata": {},
   "outputs": [
    {
     "name": "stdout",
     "output_type": "stream",
     "text": [
      "2010-07-20 19:09:27\n",
      "2018-07-18 20:32:39\n"
     ]
    }
   ],
   "source": [
    "print(VPRASANJA[\"Datum in ura\"].min())\n",
    "print(VPRASANJA[\"Datum in ura\"].max())"
   ]
  },
  {
   "cell_type": "markdown",
   "metadata": {},
   "source": [
    "Med njima je minilo veliko časa:"
   ]
  },
  {
   "cell_type": "code",
   "execution_count": 19,
   "metadata": {},
   "outputs": [
    {
     "data": {
      "text/plain": [
       "Timedelta('2920 days 01:23:12')"
      ]
     },
     "execution_count": 19,
     "metadata": {},
     "output_type": "execute_result"
    }
   ],
   "source": [
    "VPRASANJA[\"Datum in ura\"].max() - VPRASANJA[\"Datum in ura\"].min()"
   ]
  }
 ],
 "metadata": {
  "kernelspec": {
   "display_name": "Python 3",
   "language": "python",
   "name": "python3"
  },
  "language_info": {
   "codemirror_mode": {
    "name": "ipython",
    "version": 3
   },
   "file_extension": ".py",
   "mimetype": "text/x-python",
   "name": "python",
   "nbconvert_exporter": "python",
   "pygments_lexer": "ipython3",
   "version": "3.10.11"
  },
  "orig_nbformat": 4
 },
 "nbformat": 4,
 "nbformat_minor": 2
}
